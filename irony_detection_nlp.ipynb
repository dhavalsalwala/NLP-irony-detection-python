{
 "cells": [
  {
   "cell_type": "markdown",
   "metadata": {
    "colab_type": "text",
    "id": "Uy9X2bop9EBi"
   },
   "source": [
    "In this task you will develop a system to detect irony in text. We will use the data from the SemEval-2018 task on irony detection."
   ]
  },
  {
   "cell_type": "markdown",
   "metadata": {
    "colab_type": "text",
    "id": "vEvckziyL6I9"
   },
   "source": [
    "```csv\n",
    "Tweet index     Label   Tweet text\n",
    "1       1       Sweet United Nations video. Just in time for Christmas. #imagine #NoReligion  http://t.co/fej2v3OUBR\n",
    "2       1       @mrdahl87 We are rumored to have talked to Erv's agent... and the Angels asked about Ed Escobar... that's hardly nothing    ;)\n",
    "3       1       Hey there! Nice to see you Minnesota/ND Winter Weather \n",
    "4       0       3 episodes left I'm dying over here\n",
    "```\n"
   ]
  },
  {
   "cell_type": "code",
   "execution_count": 2,
   "metadata": {
    "colab": {},
    "colab_type": "code",
    "id": "BQ7-QcngC63-"
   },
   "outputs": [],
   "source": [
    "#Importing all necessary libraries.\n",
    "\n",
    "import pandas as pd\n",
    "import numpy as np\n",
    "import warnings\n",
    "import re\n",
    "import nltk\n",
    "from nltk.corpus import stopwords\n",
    "\n",
    "with warnings.catch_warnings():\n",
    "    warnings.filterwarnings(\"ignore\",category=DeprecationWarning)\n",
    "from nltk import ngrams"
   ]
  },
  {
   "cell_type": "markdown",
   "metadata": {
    "colab_type": "text",
    "id": "oc7hUIIjL6I9"
   },
   "source": [
    "# Task 1\n",
    "\n",
    "Read all the data and find the size of vocabulary of the dataset (ignoring case) and the number of positive and negative examples."
   ]
  },
  {
   "cell_type": "code",
   "execution_count": 5,
   "metadata": {
    "colab": {},
    "colab_type": "code",
    "id": "h7UcLNM8IMaC"
   },
   "outputs": [],
   "source": [
    "#Below function split the tweet into a bag of words preserving all delimiters.\n",
    "\n",
    "default_stop_words = nltk.corpus.stopwords.words('english')\n",
    "stopwords = set(default_stop_words)\n",
    "\n",
    "def create_tuples(filename):\n",
    "    #open file from location\n",
    "    data = open(filename)\n",
    "    #list to store bag of words.\n",
    "    dataset = []\n",
    "    for line in data:\n",
    "        # Removing new line character from the end of the tweet.\n",
    "        line = line.rstrip(\"\\n\")\n",
    "        #Ignoring 1st line having labels.\n",
    "        if(not line.startswith(\"Tweet\")):\n",
    "            #Split each line by tab\n",
    "            l = line.split('\\t')\n",
    "            # split tweet label by white-space\n",
    "            bow = l[2].split(' ')\n",
    "            wordlist = []\n",
    "            #Iterating over every word in a tweet\n",
    "            for everyword in bow:\n",
    "                # handling special case of web address: retaining all the charaters that startsWith 'http'\n",
    "                if(everyword.startswith(\"http\")):\n",
    "                    w = everyword.split(\":\")\n",
    "                    wordlist.append(w[0].lower())\n",
    "                    wordlist.append(':')\n",
    "                    wordlist.append(w[1].lower())\n",
    "                else:\n",
    "                    #using python regex to split each word into three groups (before delimiter - delimiter - after delimiter)\n",
    "                    #adding all three elements to the list\n",
    "                    #list of delimiters provided via regex\n",
    "                    regex = re.compile(r'(\\w*)([!,@,#,$,%,^,&,*,\\',\\\",;,,.]*)(\\w*)')\n",
    "                    w = re.search(regex, everyword)\n",
    "                    if(w.group(1)!=''):\n",
    "                        wordlist.append(w.group(1).lower())\n",
    "                    if(w.group(2)!=''):\n",
    "                        wordlist.append(w.group(2).lower())\n",
    "                    if(w.group(3)!=''):\n",
    "                        wordlist.append(w.group(3).lower())\n",
    "            row = (int(l[0]),int(l[1]),wordlist)\n",
    "            dataset.append(row)\n",
    "    return(dataset)"
   ]
  },
  {
   "cell_type": "code",
   "execution_count": 6,
   "metadata": {
    "colab": {
     "base_uri": "https://localhost:8080/",
     "height": 68
    },
    "colab_type": "code",
    "id": "KNgJdruiC64G",
    "outputId": "15eba788-b3ee-494a-e5ce-4cbcf2d67076"
   },
   "outputs": [
    {
     "name": "stdout",
     "output_type": "stream",
     "text": [
      "Vocabulary size is 12424\n",
      "No. of positive examples: 1911\n",
      "No. of negative examples: 1923\n"
     ]
    }
   ],
   "source": [
    "inputfile='data/SemEval2018-T3-train-taskA.txt' #Location of the file\n",
    "tweets=create_tuples(inputfile)\n",
    "\n",
    "#Funtion to create unique list of tokens\n",
    "vocab=set([])\n",
    "for tweet in tweets:\n",
    "    for word in tweet[2]:\n",
    "        vocab.add(word)\n",
    "\n",
    "print (\"Vocabulary size is \"+str(len(vocab)))\n",
    "\n",
    "#Segregating positive and negative examples\n",
    "pos=0\n",
    "neg=0\n",
    "for tweet in tweets:\n",
    "    if tweet[1]==1:\n",
    "        pos=pos+1\n",
    "    else:\n",
    "        neg=neg+1\n",
    "\n",
    "print (\"No. of positive examples: \"+str(pos))\n",
    "print (\"No. of negative examples: \"+str(neg))"
   ]
  },
  {
   "cell_type": "markdown",
   "metadata": {
    "colab_type": "text",
    "id": "qVdS5s6yL6I-"
   },
   "source": [
    "# Task 2\n",
    "\n",
    "Develop a classifier using the Naive Bayes model to predict if an example is ironic. The model should convert each Tweet into a bag-of-words and calculate\n",
    "\n",
    "$p(\\text{Ironic}|w_1,\\ldots,w_n) \\propto \\prod_{i=1,\\ldots,n} p(w_i \\in \\text{tweet}| \\text{Ironic}) p(\\text{Ironic})$\n",
    "\n",
    "$p(\\text{NotIronic}|w_1,\\ldots,w_n) \\propto \\prod_{i=1,\\ldots,n} p(w_i \\in \\text{tweet}| \\text{NotIronic}) p(\\text{NotIronic})$\n",
    "\n",
    "You should use add-alpha smoothing to calculate probabilities"
   ]
  },
  {
   "cell_type": "code",
   "execution_count": 0,
   "metadata": {
    "colab": {},
    "colab_type": "code",
    "id": "UInlccE79ECJ"
   },
   "outputs": [],
   "source": [
    "#Function to facilitate add alpha smoothing in the case where words are not present in the data set.\n",
    "#Function to calculate no. of unseen words in a vocabulary.\n",
    "#In our example we are calculating no of words from test data set which are not present in train data set.\n",
    "\n",
    "def calculate_unseen_words_count(X_train,X_test):\n",
    "    \n",
    "    train_word_list=[]\n",
    "    for index, row in X_train.iterrows():\n",
    "        for word in row['text']:\n",
    "            train_word_list.append(word)\n",
    "            \n",
    "    word_count=0\n",
    "    for index, row in X_test.iterrows():\n",
    "        for word in row['text']:\n",
    "            if word not in train_word_list:\n",
    "                word_count=word_count+1\n",
    "    \n",
    "    return word_count\n",
    "            "
   ]
  },
  {
   "cell_type": "code",
   "execution_count": 0,
   "metadata": {
    "colab": {},
    "colab_type": "code",
    "id": "Thlwbp7cC64N"
   },
   "outputs": [],
   "source": [
    "#Custom built classifier to predict if an example is ironic.\n",
    "\n",
    "class NayesBayes:\n",
    "    \n",
    "    #initialize all parameters\n",
    "    def __init__(self, alpha=0.03):\n",
    "        # Initialising all default values\n",
    "        self.alpha = alpha\n",
    "        self.irony_tweets=[]\n",
    "        self.non_irony_tweets=[]\n",
    "        self.vocab=set([])\n",
    "\n",
    "    # fit model to train data\n",
    "    # Segregate into irony and non-irony tweets.\n",
    "    # Also, creating vocab of unique tokens.\n",
    "    def fit(self, X, y):\n",
    "        pos=0\n",
    "        neg=0\n",
    "        irony_tweets=[]\n",
    "        non_irony_tweets=[]\n",
    "        for index, row in X.iterrows():\n",
    "            if y[index]==1:\n",
    "                pos=pos+1\n",
    "                for word in row['text']:\n",
    "                    self.irony_tweets.append(word)\n",
    "            else:\n",
    "                neg=neg+1\n",
    "                for word in row['text']:\n",
    "                    self.non_irony_tweets.append(word)\n",
    "        \n",
    "        for index, row in X.iterrows():\n",
    "            for word in row['text']:\n",
    "                self.vocab.add(word)\n",
    "                \n",
    "        #Probability of Irony tweets\n",
    "        self.p_tweet_irony=pos/len(self.irony_tweets)\n",
    "        #Probability of non Irony tweets\n",
    "        self.p_tweet_non_irony=neg/len(self.non_irony_tweets)\n",
    "        \n",
    "    #Estimating probability of the tweet being irony\n",
    "    #Add Alpha smoothing added\n",
    "    def _irony_prob(self,tweet,unseen_words_count):\n",
    "        p_irony=1\n",
    "        for word in tweet:\n",
    "            word_count=0\n",
    "            for token in self.irony_tweets:\n",
    "                if word == token:\n",
    "                    word_count=word_count+1\n",
    "            if word_count > 0:\n",
    "                p_irony=p_irony*((word_count+(self.alpha*len(self.vocab))))/(len(self.irony_tweets)+self.alpha*(len(self.vocab)+unseen_words_count))\n",
    "            else:\n",
    "                p_irony=p_irony*(((self.alpha*unseen_words_count)))/(len(self.irony_tweets)+self.alpha*(len(self.vocab)+unseen_words_count))\n",
    "        return p_irony*self.p_tweet_irony\n",
    "    \n",
    "    #Estimating probability of the tweet being non irony\n",
    "    #Add Alpha smoothing added\n",
    "    def _non_irony_prob(self,tweet,unseen_words_count):\n",
    "        p_non_irony=1\n",
    "        for word in tweet:\n",
    "            word_count=0\n",
    "            for token in self.non_irony_tweets:\n",
    "                if word == token:\n",
    "                    word_count=word_count+1\n",
    "            if word_count > 0:\n",
    "                p_non_irony=p_non_irony*((word_count+(self.alpha*len(self.vocab))))/(len(self.non_irony_tweets)+self.alpha*(len(self.vocab)+unseen_words_count))\n",
    "            else:\n",
    "                p_non_irony=p_non_irony*(((self.alpha*unseen_words_count)))/(len(self.non_irony_tweets)+self.alpha*(len(self.vocab)+unseen_words_count))\n",
    "        return p_non_irony*self.p_tweet_non_irony\n",
    "    \n",
    "    # predict values for binary model\n",
    "    def predict(self, X, unseen_words_count):\n",
    "        pred_result=[]\n",
    "        count=0\n",
    "        for index, row in X.iterrows():\n",
    "            \n",
    "            #Get probablity of the tweet being irony\n",
    "            irony=self._irony_prob(row['text'],unseen_words_count)\n",
    "            #Get probablity of the tweet being non irony\n",
    "            non_irony=self._non_irony_prob(row['text'],unseen_words_count)\n",
    "            \n",
    "            #if irony value is greater than the non-irony than the predicted result is irony or vice-versa.\n",
    "            if irony>non_irony:\n",
    "                pred_result.append(1)\n",
    "            else:\n",
    "                pred_result.append(0)\n",
    "            count=count+1\n",
    "        return pred_result\n"
   ]
  },
  {
   "cell_type": "markdown",
   "metadata": {
    "colab_type": "text",
    "id": "w5LivWxOL6JA"
   },
   "source": [
    "# Task 3\n",
    "\n",
    "Divide the data into a training and test set and justify your split.\n",
    "\n",
    "Choose a suitable evaluation metric and implement it. Explain why you chose this evaluation metric.\n",
    "\n",
    "\n",
    "Evaluate the method in Task 2 according to this metric."
   ]
  },
  {
   "cell_type": "markdown",
   "metadata": {
    "colab_type": "text",
    "id": "xtFamlzk9ECV"
   },
   "source": [
    "### Evaluation Metrics\n",
    "\n",
    "#### Confusion Matrix\n",
    "* A confusion matrix is a summary of prediction results on a classification problem.\n",
    "* The number of correct and incorrect predictions are summarized with count values and broken down by each class.\n",
    "\n",
    "\n",
    "* We can learn a lot from the confusion matrix.\n",
    "\n",
    "    * The total actual irony tweets in the dataset is the sum of the values (464 + 661)\n",
    "    * The total actual non irony tweets in the dataset is the sum of values (288 + 121).\n",
    "    * The correct values are organized in a diagonal line from top left to bottom-right of the matrix (288 + 661).\n",
    "    * More errors were made by predicting irony tweets as non irony than predicting non irony as irony.\n",
    "\n",
    "\n",
    "#### ROC Curve: \n",
    "* An ROC curve is the most commonly used way to visualize the performance of a binary classifier, and Area under curve (AUC) is the way to summarize its performance in a single number. \n",
    "* A classifier that does a very good job separating the classes will have an ROC curve that hugs the upper left corner of the plot. Conversely, a classifier that does a very poor job separating the classes will have an ROC curve that is close to this black diagonal line.\n",
    "* In our case, the curve is close to the diagonal and so the peformance of our classifier is low."
   ]
  },
  {
   "cell_type": "code",
   "execution_count": 0,
   "metadata": {
    "colab": {},
    "colab_type": "code",
    "id": "VHx7p1JU9ECW"
   },
   "outputs": [],
   "source": [
    "import matplotlib.pyplot as plt\n",
    "import sklearn.metrics as metrics\n",
    "\n",
    "def evaluate_performance(y_test, y_pred):\n",
    "    \n",
    "    y_pred=np.array(y_pred)\n",
    "    y_test=np.array(y_test)\n",
    "    \n",
    "    df_confusion = confusion_matrix(y_test, y_pred)\n",
    "    print (\"The confusion matrix: \\n\")\n",
    "    print (df_confusion)\n",
    "    TP=df_confusion.iloc[0][0]\n",
    "    TN=df_confusion.iloc[1][1]\n",
    "    FP=df_confusion.iloc[0][1]\n",
    "    FN=df_confusion.iloc[1][0]\n",
    "    print ()\n",
    "    print (\"Accuracy: %.5f\" % ((TP + TN) / (TP + TN + FP + FN)))\n",
    "    print (\"Error Rate: %.2f\" % ((FP + FN) / (TP + TN + FP + FN)))\n",
    "    print (\"Precision: %.2f\" % (TP / (TP + FP)))\n",
    "    print (\"F-measure: %.2f\" % (2 / ( (1 / (TP / (TP + FP))) + (1 / (TP/(TP + FN))) )))\n",
    "    print ()\n",
    "    print (\"ROC Curve:\")\n",
    "    FPR, TPR, threshold = metrics.roc_curve(y_test, y_pred)\n",
    "    plt.title('Irony Detection')\n",
    "    plt.plot(FPR, TPR, 'b', label = 'AUC = %0.2f' % metrics.auc(FPR, TPR))\n",
    "    plt.legend(loc = 'lower right')\n",
    "    plt.plot([0, 1], [0, 1],'r--')\n",
    "    plt.xlim([0, 1])\n",
    "    plt.ylim([0, 1])\n",
    "    plt.ylabel('True Positive Rate')\n",
    "    plt.xlabel('False Positive Rate')\n",
    "    plt.show()\n",
    "\n",
    "def confusion_matrix(y_test, y_pred):\n",
    "    y_actu = pd.Series(y_test, name='Gold')\n",
    "    y_pred = pd.Series(y_pred, name='Predicted')\n",
    "    return pd.crosstab(y_actu, y_pred, margins=True)"
   ]
  },
  {
   "cell_type": "code",
   "execution_count": 0,
   "metadata": {
    "colab": {
     "base_uri": "https://localhost:8080/",
     "height": 614
    },
    "colab_type": "code",
    "id": "-PgYe0T-C64W",
    "outputId": "25fc77bc-f1f5-482b-d12e-b65e6d7b8142"
   },
   "outputs": [
    {
     "name": "stdout",
     "output_type": "stream",
     "text": [
      "The confusion matrix: \n",
      "\n",
      "Predicted    0     1   All\n",
      "Gold                      \n",
      "0          288   464   752\n",
      "1          121   661   782\n",
      "All        409  1125  1534\n",
      "\n",
      "Accuracy: 0.61864\n",
      "Error Rate: 0.38\n",
      "Precision: 0.38\n",
      "F-measure: 0.50\n",
      "\n",
      "ROC Curve:\n"
     ]
    },
    {
     "data": {
      "image/png": "[encoded data removed]",
      "text/plain": [
       "<Figure size 576x396 with 1 Axes>"
      ]
     },
     "metadata": {
      "tags": []
     },
     "output_type": "display_data"
    }
   ],
   "source": [
    "#Importing libraries from scikit learn\n",
    "\n",
    "from sklearn.model_selection import train_test_split\n",
    "from sklearn.metrics import accuracy_score\n",
    "\n",
    "#Using pandas to create data frame\n",
    "ds = pd.DataFrame(tweets, columns=[\"index\",\"label\",\"text\"])\n",
    "\n",
    "#Creating Feature set(X) and Class variable (y)\n",
    "y = ds['label']\n",
    "X = ds.drop('label',axis=1)\n",
    "\n",
    "# Splitting data set into training and test samples.\n",
    "# Justification:\n",
    "# Any train-test split which has more data in the training set will most likely give you better accuracy \n",
    "# as calculated on that test set. Normally 60% of the available data is allocated for training and the \n",
    "# remaining 40% data are for the test data sets. Partitioning ratio is an important aspect and one must \n",
    "# ensure that the training dataset should include all possible patterns used for defining the problem. \n",
    "# Hence, one must shuffle data before applying any split strategy. If you rather want a good estimate of \n",
    "# your real error, make the test set bigger.\n",
    "X_train, X_test, y_train, y_test = train_test_split(X, y, test_size=0.40, random_state=42, shuffle=True)\n",
    "\n",
    "#Retrieving unseen words count\n",
    "unseen_words_count=calculate_unseen_words_count(X_train, X_test)\n",
    "\n",
    "#Creating model object\n",
    "model = NayesBayes(0.02)\n",
    "#Fit model to training data\n",
    "model.fit(X_train,y_train)\n",
    "#Predicting result of test data\n",
    "y_pred=model.predict(X_test, unseen_words_count)\n",
    "#Evaluating model performance\n",
    "evaluate_performance(y_test, y_pred)"
   ]
  },
  {
   "cell_type": "code",
   "execution_count": 0,
   "metadata": {
    "colab": {},
    "colab_type": "code",
    "id": "XWmlSiqnFC3O"
   },
   "outputs": [],
   "source": [
    "import random\n",
    "\n",
    "#Generating train and test data as per the desired format required by the model.\n",
    "def task3():\n",
    "    random.seed(101)\n",
    "    train_size = int(round(len(tweets)*0.7,0))\n",
    "    train = random.sample(tweets, train_size)\n",
    "    test = []\n",
    "    for row in tweets:\n",
    "        if row not in train:\n",
    "            test.append(row)\n",
    "            \n",
    "    return(train,test)\n"
   ]
  },
  {
   "cell_type": "markdown",
   "metadata": {
    "colab_type": "text",
    "id": "82JnhmgBL6JA"
   },
   "source": [
    "# Task 4\n",
    "\n",
    "Run the following code to generate a model from your training set. The training set should be in a variable  called `train` and is assumed to be of the form:\n",
    "\n",
    "```\n",
    "[(1, 1, ['sweet', 'united', 'nations', 'video', '.', 'just', 'in', 'time', 'for', 'christmas', '.', '#', 'imagine', '#', 'noreligion', 'http', ':', '//t.co/fej2v3oubr']), \n",
    " (2, 1, ['@', 'mrdahl87', 'we', 'are', 'rumored', 'to', 'have', 'talked', 'to', 'erv', \"'s\", 'agent', '...', 'and', 'the', 'angels', 'asked', 'about', 'ed', 'escobar', '...', 'that', \"'s\", 'hardly', 'nothing', ';', ')']), \n",
    " (3, 1, ['hey', 'there', '!', 'nice', 'to', 'see', 'you', 'minnesota/nd', 'winter', 'weather']), \n",
    " (4, 0, ['3', 'episodes', 'left', 'i', \"'m\", 'dying', 'over', 'here']), \n",
    " ...\n",
    "]\n",
    " ```\n",
    "\n"
   ]
  },
  {
   "cell_type": "code",
   "execution_count": 0,
   "metadata": {
    "colab": {},
    "colab_type": "code",
    "id": "0VJoQpXHGCa2"
   },
   "outputs": [],
   "source": [
    "from keras.models import Sequential, load_model\n",
    "from keras.layers import Dense, Activation, Embedding, Dropout, TimeDistributed\n",
    "from keras.layers import LSTM\n",
    "from keras.optimizers import Adam\n",
    "from keras.utils import to_categorical\n",
    "from keras.callbacks import ModelCheckpoint\n",
    "import numpy as np\n",
    "\n",
    "## These values should be set from Task 3\n",
    "train, test = task3()\n",
    "\n",
    "def make_dictionary(train, test):\n",
    "    dictionary = {}\n",
    "    for d in train+test:\n",
    "        for w in d[2]:\n",
    "            if w not in dictionary:\n",
    "                dictionary[w] = len(dictionary)\n",
    "    return dictionary\n",
    "\n",
    "class KerasBatchGenerator(object):\n",
    "    def __init__(self, data, num_steps, batch_size, vocabulary, skip_step=5):\n",
    "        self.data = data\n",
    "        self.num_steps = num_steps\n",
    "        self.batch_size = batch_size\n",
    "        self.vocabulary = vocabulary\n",
    "        self.current_idx = 0\n",
    "        self.current_sent = 0\n",
    "        self.skip_step = skip_step\n",
    "\n",
    "    def generate(self):\n",
    "        x = np.zeros((self.batch_size, self.num_steps))\n",
    "        y = np.zeros((self.batch_size, self.num_steps, 2))\n",
    "        while True:\n",
    "            for i in range(self.batch_size):\n",
    "                # Choose a sentence and position with at lest num_steps more words\n",
    "                while self.current_idx + self.num_steps >= len(self.data[self.current_sent][2]):\n",
    "                    self.current_idx = self.current_idx % len(self.data[self.current_sent][2])\n",
    "                    self.current_sent += 1\n",
    "                    if self.current_sent >= len(self.data):\n",
    "                        self.current_sent = 0\n",
    "                # The rows of x are set to values like [1,2,3,4,5]\n",
    "                x[i, :] = [self.vocabulary[w] for w in self.data[self.current_sent][2][self.current_idx:self.current_idx + self.num_steps]]\n",
    "                # The rows of y are set to values like [[1,0],[1,0],[1,0],[1,0],[1,0]]\n",
    "                y[i, :, :] = [[self.data[self.current_sent][1], 1-self.data[self.current_sent][1]]] * self.num_steps\n",
    "                self.current_idx += self.skip_step\n",
    "            yield x, y\n",
    "\n",
    "# Hyperparameters for model\n",
    "vocabulary = make_dictionary(train, test)\n",
    "num_steps = 5\n",
    "batch_size = 20\n",
    "num_epochs = 50 # Reduce this if the model is taking too long to train (or increase for performance)\n",
    "hidden_size = 50 # Increase this to improve perfomance (or increase for performance)\n",
    "use_dropout=True\n",
    "\n",
    "# Create batches for RNN\n",
    "train_data_generator = KerasBatchGenerator(train, num_steps, batch_size, vocabulary,\n",
    "                                           skip_step=num_steps)\n",
    "valid_data_generator = KerasBatchGenerator(test, num_steps, batch_size, vocabulary,\n",
    "                                           skip_step=num_steps)\n",
    "\n",
    "# A double stacked LSTM with dropout and n hidden layers\n",
    "model = Sequential()\n",
    "model.add(Embedding(len(vocabulary), hidden_size, input_length=num_steps))\n",
    "model.add(LSTM(hidden_size, return_sequences=True))\n",
    "model.add(LSTM(hidden_size, return_sequences=True))\n",
    "if use_dropout:\n",
    "    model.add(Dropout(0.5))\n",
    "model.add(TimeDistributed(Dense(2)))\n",
    "model.add(Activation('softmax'))\n",
    "\n",
    "# Set optimizer and build model\n",
    "optimizer = Adam()\n",
    "model.compile(loss='categorical_crossentropy', optimizer='adam', metrics=['categorical_accuracy'])\n",
    "\n",
    "# Train the model\n",
    "model.fit_generator(train_data_generator.generate(), len(train)//(batch_size*num_steps), num_epochs,\n",
    "                        validation_data=valid_data_generator.generate(),\n",
    "                        validation_steps=len(test)//(batch_size*num_steps))\n",
    "\n",
    "# Save the model\n",
    "model.save(\"final_model_old.hdf5\")"
   ]
  },
  {
   "cell_type": "code",
   "execution_count": 0,
   "metadata": {
    "colab": {},
    "colab_type": "code",
    "id": "BR00v_WCGFdJ"
   },
   "outputs": [],
   "source": [
    "#Splitting tweets into combination of 5 words sequentially.\n",
    "def get_ngrams(tweet):\n",
    "      tweet_comb_list=[]\n",
    "    \n",
    "      l=len(tweet)\n",
    "      if l<5:\n",
    "        count=0\n",
    "        while len(tweet)<5:\n",
    "          tweet.append(tweet[count])\n",
    "          if count==(l-1):\n",
    "            count=0\n",
    "          else:\n",
    "            count=count+1\n",
    "            \n",
    "      set_of_words = ' '.join(tweet)\n",
    "      set_of_words = set_of_words.lstrip(' ')\n",
    "      fivegrams = ngrams(set_of_words.split(),5)\n",
    "      for gram in fivegrams:\n",
    "          tweet_comb_list.append(gram)\n",
    "      return tweet_comb_list\n",
    "    \n",
    "#Predicting the max probability of a LSTM output per combination of a tweet.\n",
    "def get_max_prediction(array):\n",
    "    one=0\n",
    "    zero=0\n",
    "  \n",
    "    for item in array:\n",
    "        for i in range(len(item)):\n",
    "            if item[i]==1:\n",
    "                one=one+1\n",
    "            else:\n",
    "                zero=zero+1\n",
    "  \n",
    "    if one>zero:\n",
    "        return 1\n",
    "    else:\n",
    "        return 0\n",
    "      \n",
    "#Predicting the max probability of a LSTM output per tweet.\n",
    "def get_max_prediction_list(list):\n",
    "    one=0\n",
    "    zero=0\n",
    "  \n",
    "    for i in list:\n",
    "        if i==1:\n",
    "            one=+1\n",
    "        else:\n",
    "            zero=+1\n",
    "  \n",
    "    if one>zero:\n",
    "        return 1\n",
    "    else:\n",
    "        return 0\n"
   ]
  },
  {
   "cell_type": "markdown",
   "metadata": {
    "colab_type": "text",
    "id": "3S4eET-fGIhp"
   },
   "source": [
    "Using the code above write a function that can predict the label using the LSTM model above and compare it with the evaluation performed in Task 3\n",
    "\n",
    "* Following are the findings from the confusion matrix (Improved Model).\n",
    "\n",
    "    * The total actual irony tweets in the dataset is the sum of the values (64 + 35)\n",
    "    * The total actual non irony tweets in the dataset is the sum of values (514 + 537).\n",
    "    * The correct values are organized in a diagonal line from top left to bottom-right of the matrix (514 + 35).\n",
    "    * More errors were made by predicting irony tweets as irony than predicting irony as non irony.\n",
    "    \n",
    "**Accuracy: 0.47739**"
   ]
  },
  {
   "cell_type": "code",
   "execution_count": 0,
   "metadata": {
    "colab": {
     "base_uri": "https://localhost:8080/",
     "height": 614
    },
    "colab_type": "code",
    "id": "RK-ey6TAGK9p",
    "outputId": "8fde7f2e-6821-47a5-b4f8-427af7814398"
   },
   "outputs": [
    {
     "name": "stdout",
     "output_type": "stream",
     "text": [
      "The confusion matrix: \n",
      "\n",
      "Predicted     0   1   All\n",
      "Gold                     \n",
      "0           514  64   578\n",
      "1           537  35   572\n",
      "All        1051  99  1150\n",
      "\n",
      "Accuracy: 0.47739\n",
      "Error Rate: 0.52\n",
      "Precision: 0.89\n",
      "F-measure: 0.63\n",
      "\n",
      "ROC Curve:\n"
     ]
    },
    {
     "data": {
      "image/png": "[encoded data removed]",
      "text/plain": [
       "<Figure size 576x396 with 1 Axes>"
      ]
     },
     "metadata": {
      "tags": []
     },
     "output_type": "display_data"
    }
   ],
   "source": [
    "model = load_model(\"final_model_old.hdf5\")\n",
    "\n",
    "y_test=[]\n",
    "y_pred=[]\n",
    "\n",
    "#creating zero array of length 1 and size 5 to store the values of input vector.\n",
    "x = np.zeros((1,num_steps))\n",
    "for tweet in test:\n",
    "    comb_predict_list=[] \n",
    "    #As the step_size of our model is 5, we divide each tweet into a combination of 5 words. \n",
    "    #We then predict the class label of each of these combinations. We combine the max probability \n",
    "    # of all these individual tweet combinations into single number 1 or 0. Finally, we get a list of \n",
    "    # class predictions per tweet.\n",
    "    for tweet_comb in get_ngrams(tweet[2]):\n",
    "        w = np.array([])\n",
    "        for word in tweet_comb:\n",
    "            w=np.hstack((w, vocabulary[word]))\n",
    "        \n",
    "        x[0,:]=w\n",
    "        comb_predict_list.append(get_max_prediction(model.predict_classes(x)))\n",
    "    y_pred.append(get_max_prediction_list(comb_predict_list))\n",
    "    y_test.append(int(tweet[1]))\n",
    "\n",
    "evaluate_performance(y_test, y_pred)"
   ]
  },
  {
   "cell_type": "markdown",
   "metadata": {
    "colab_type": "text",
    "id": "9B03Ue1jGNpM"
   },
   "source": [
    "# Task 5\n",
    "\n",
    "Suggest an improvement to either the system developed in Task 2 or 4 and show that it improves according to your evaluation metric."
   ]
  },
  {
   "cell_type": "markdown",
   "metadata": {
    "colab_type": "text",
    "id": "rEgV7Nh2GP5h"
   },
   "source": [
    "### Explanation\n",
    "\n",
    "* In the existing scenario, the multi-class classification was used as the loss function. The multi-class classification should only be used when there are more than two exclusive targets.\n",
    " \n",
    "* The accuracy computed with the Keras method evaluate is just plain wrong when using categorical cross-entropy with 2 labels. We can check above fact by recomputing the accuracy (first call the Keras method \"predict\" and then compute the number of correct answers returned by predict): you get the true accuracy, which is much lower than the Keras \"evaluate\" one.\n",
    "\n",
    "* For Binary classification with two target classes, binary cross-entropy should be used and targets encoded as one-hot vectors. The accuracy type of metric should be accuracy.\n",
    "\n",
    "* Also, the activation function should be selected as follows:\n",
    "\n",
    "  * **binary_crossentropy**: sigmoid activation\n",
    "  * **categorical_crossentropy**: softmax activation\n",
    "  \n",
    "* Our task is a binary classification, the last layer will be a dense layer with a sigmoid activation function.\n",
    "\n",
    "* Dropout can be applied between layers using the Dropout Keras layer. It is a powerful technique for combating overfitting in your LSTM models. It has an impact on our model with the accuracy slightly on the higher side. We have lowered our dropout value to 0.2\n",
    "\n",
    "* The number of hidden layers affects the learning capacity of the network. More hidden layers would be able to learn more structure from the problem at the cost of longer training time. On the hand, more layers also result in overfitting of the model. In our case, we have increased the size of the hidden layer to 100.\n",
    "\n",
    "* In Keras, the batch size must be a factor of the size of the test and the training dataset. The batch size was fixed at 5 in the previous case. Here we have updated our batch size to be 64\n",
    "\n",
    "* **If we compare the ROC curve for both the models, we see that the curve has slightly shifted towards the diagonal. Consequently, accuracy has increased from 0.47739 to 0.49304**\n",
    "\n",
    "* Following are the findings from the confusion matrix (Improved Model).\n",
    "\n",
    "    * The total actual irony tweets in the dataset is the sum of the values (53 + 42)\n",
    "    * The total actual non irony tweets in the dataset is the sum of values (525 + 530).\n",
    "    * The correct values are organized in a diagonal line from top left to bottom-right of the matrix (525 + 42).\n",
    "    * More errors were made by predicting irony tweets as irony than predicting irony as non irony.\n"
   ]
  },
  {
   "cell_type": "code",
   "execution_count": 0,
   "metadata": {
    "colab": {},
    "colab_type": "code",
    "id": "iV207juZL6JB"
   },
   "outputs": [],
   "source": [
    "from keras.models import Sequential, load_model\n",
    "from keras.layers import Dense, Activation, Embedding, Dropout, TimeDistributed\n",
    "from keras.layers import LSTM\n",
    "from keras.optimizers import Adam\n",
    "from keras.utils import to_categorical\n",
    "from keras.callbacks import ModelCheckpoint\n",
    "import numpy as np\n",
    "from sklearn.feature_extraction.text import TfidfVectorizer\n",
    "\n",
    "## These values should be set from Task 3\n",
    "train, test = task3()\n",
    "\n",
    "def make_dictionary(train, test):\n",
    "    dictionary = {}\n",
    "    for d in train+test:\n",
    "        for w in d[2]:\n",
    "            if w not in dictionary:\n",
    "               dictionary[w] = len(w)\n",
    "    return dictionary\n",
    "\n",
    "class KerasBatchGenerator(object):\n",
    "    def __init__(self, data, num_steps, batch_size, vocabulary, skip_step=5):\n",
    "        self.data = data\n",
    "        self.num_steps = num_steps\n",
    "        self.batch_size = batch_size\n",
    "        self.vocabulary = vocabulary\n",
    "        self.current_idx = 0\n",
    "        self.current_sent = 0\n",
    "        self.skip_step = skip_step\n",
    "\n",
    "    def generate(self):\n",
    "        x = np.zeros((self.batch_size, self.num_steps))\n",
    "        y = np.zeros((self.batch_size, self.num_steps, 2))\n",
    "        while True:\n",
    "            for i in range(self.batch_size):\n",
    "                # Choose a sentence and position with at lest num_steps more words\n",
    "                while self.current_idx + self.num_steps >= len(self.data[self.current_sent][2]):\n",
    "                    self.current_idx = self.current_idx % len(self.data[self.current_sent][2])\n",
    "                    self.current_sent += 1\n",
    "                    if self.current_sent >= len(self.data):\n",
    "                        self.current_sent = 0\n",
    "                # The rows of x are set to values like [1,2,3,4,5]\n",
    "                x[i, :] = [self.vocabulary[w] for w in self.data[self.current_sent][2][self.current_idx:self.current_idx + self.num_steps]]\n",
    "                # The rows of y are set to values like [[1,0],[1,0],[1,0],[1,0],[1,0]]\n",
    "                y[i, :, :] = [[self.data[self.current_sent][1], 1-self.data[self.current_sent][1]]] * self.num_steps\n",
    "                self.current_idx += self.skip_step\n",
    "            yield x, y\n",
    "\n",
    "# Hyperparameters for model\n",
    "vocabulary = make_dictionary(train, test)\n",
    "num_steps = 5\n",
    "batch_size = 64\n",
    "num_epochs = 50 # Reduce this if the model is taking too long to train (or increase for performance)\n",
    "hidden_size = 100 # Increase this to improve perfomance (or increase for performance)\n",
    "use_dropout=True\n",
    "\n",
    "# Create batches for RNN\n",
    "train_data_generator = KerasBatchGenerator(train, num_steps, batch_size, vocabulary,\n",
    "                                           skip_step=num_steps)\n",
    "valid_data_generator = KerasBatchGenerator(test, num_steps, batch_size, vocabulary,\n",
    "                                           skip_step=num_steps)\n",
    "\n",
    "# A double stacked LSTM with dropout and n hidden layers\n",
    "model = Sequential()\n",
    "model.add(Embedding(len(vocabulary), hidden_size, input_length=num_steps))\n",
    "model.add(LSTM(hidden_size, return_sequences=True))\n",
    "model.add(LSTM(hidden_size, return_sequences=True))\n",
    "if use_dropout:\n",
    "    model.add(Dropout(0.2))\n",
    "model.add(TimeDistributed(Dense(2)))\n",
    "model.add(Activation('sigmoid'))\n",
    "\n",
    "# Set optimizer and build model\n",
    "optimizer = Adam()\n",
    "model.compile(loss='binary_crossentropy', optimizer='adam', metrics=['categorical_accuracy'])\n",
    "\n",
    "# Train the model\n",
    "model.fit_generator(train_data_generator.generate(), len(train)//(batch_size*num_steps), num_epochs,\n",
    "                        validation_data=valid_data_generator.generate(),\n",
    "                        validation_steps=len(test)//(batch_size*num_steps))\n",
    "\n",
    "# Save the model\n",
    "model.save(\"final_model.hdf5\")"
   ]
  },
  {
   "cell_type": "code",
   "execution_count": 0,
   "metadata": {
    "colab": {
     "base_uri": "https://localhost:8080/",
     "height": 614
    },
    "colab_type": "code",
    "id": "wQfP5qylL6JH",
    "outputId": "97532597-bdbb-4481-f9c1-2c1da4751414"
   },
   "outputs": [
    {
     "name": "stdout",
     "output_type": "stream",
     "text": [
      "The confusion matrix: \n",
      "\n",
      "Predicted     0   1   All\n",
      "Gold                     \n",
      "0           525  53   578\n",
      "1           530  42   572\n",
      "All        1055  95  1150\n",
      "\n",
      "Accuracy: 0.49304\n",
      "Error Rate: 0.51\n",
      "Precision: 0.91\n",
      "F-measure: 0.64\n",
      "\n",
      "ROC Curve:\n"
     ]
    },
    {
     "data": {
      "image/png": "[encoded data removed]",
      "text/plain": [
       "<Figure size 576x396 with 1 Axes>"
      ]
     },
     "metadata": {
      "tags": []
     },
     "output_type": "display_data"
    }
   ],
   "source": [
    "model = load_model(\"final_model.hdf5\")\n",
    "\n",
    "y_test=[]\n",
    "y_pred=[]\n",
    "\n",
    "#creating zero array of length 1 and size 5 to store the values of input vector.\n",
    "x = np.zeros((1,num_steps))\n",
    "for tweet in test:\n",
    "    comb_predict_list=[] \n",
    "    #As the step_size of our model is 5, we divide each tweet into a combination of 5 words. \n",
    "    #We then predict the class label of each of these combinations. We combine the max probability \n",
    "    # of all these individual tweet combinations into single number 1 or 0. Finally, we get a list of \n",
    "    # class predictions per tweet.\n",
    "    for tweet_comb in get_ngrams(tweet[2]):\n",
    "        w = np.array([])\n",
    "        for word in tweet_comb:\n",
    "            w=np.hstack((w, vocabulary[word]))\n",
    "        \n",
    "        x[0,:]=w\n",
    "        comb_predict_list.append(get_max_prediction(model.predict_classes(x)))\n",
    "    y_pred.append(get_max_prediction_list(comb_predict_list))\n",
    "    y_test.append(int(tweet[1]))\n",
    "\n",
    "evaluate_performance(y_test, y_pred)"
   ]
  },
  {
   "cell_type": "markdown",
   "metadata": {
    "colab_type": "text",
    "id": "9yZucGZmL6JM"
   },
   "source": [
    "### Conclusion\n",
    "\n",
    "* We can still increase the accuracy of our model by increasing the vocabulary size, add more training samples, add regularization, improved pre-processing stage and so on."
   ]
  },
  {
   "cell_type": "markdown",
   "metadata": {
    "colab_type": "text",
    "id": "_SxS1nLSPEb7"
   },
   "source": [
    "### References\n",
    "\n",
    "* Keras.io. (2019). Home - Keras Documentation. [online] Available at: https://keras.io/ [Accessed 1 Mar. 2019].\n",
    "* Stack Overflow. (2019). Keras binary_crossentropy vs categorical_crossentropy performance?. [online] Available at: https://stackoverflow.com/questions/42081257/keras-binary-crossentropy-vs-categorical-crossentropy-performance [Accessed 1 Mar. 2019]."
   ]
  }
 ],
 "metadata": {
  "colab": {
   "collapsed_sections": [],
   "name": "Advanced_Topics_in_Natural_Language_Processing_Assignment_1.ipynb",
   "provenance": [],
   "version": "0.3.2"
  },
  "kernelspec": {
   "display_name": "Python 3",
   "language": "python",
   "name": "python3"
  },
  "language_info": {
   "codemirror_mode": {
    "name": "ipython",
    "version": 3
   },
   "file_extension": ".py",
   "mimetype": "text/x-python",
   "name": "python",
   "nbconvert_exporter": "python",
   "pygments_lexer": "ipython3",
   "version": "3.7.1"
  }
 },
 "nbformat": 4,
 "nbformat_minor": 1
}
